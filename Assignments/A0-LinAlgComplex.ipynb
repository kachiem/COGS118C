{
 "cells": [
  {
   "cell_type": "markdown",
   "metadata": {},
   "source": [
    "Karen Chiem  \n",
    "A92060274  \n",
    "COGS118C - Assignment 0"
   ]
  },
  {
   "cell_type": "markdown",
   "metadata": {},
   "source": [
    "# This notebook has [15] points in total \n",
    "##### The number of points for each question is denoted by []. Make sure you've answered all the questions and that the point total add up."
   ]
  },
  {
   "cell_type": "markdown",
   "metadata": {},
   "source": [
    "---\n",
    "# Lab 0 - Intro to Jupyter, Python, and numpy \n",
    "### ... and Vectors, Arrays, Linear Algebra and Complex Numbers\n",
    "In this lab, we will cover mathematical and programming concepts fundamental to neural signal processing.\n",
    "We will start with general Jupyter and python concepts, then move on to use numpy arrays/matrices. \n",
    "\n",
    "Topics include:\n",
    "- Jupyter notebook tips\n",
    "- general python, including: types, functions, for loops, if/else statements\n",
    "- numpy, array/matrix indexing\n",
    "- multi-dimensional vectors, dot product\n",
    "- complex numbers: rectangular vs. Euler form\n",
    "- plotting\n",
    "- how to find stuff you need: Googling, stackexchange, documentation\n",
    "\n",
    "### This notebook corresponds to material in the lecture slides for Lab1-math_review"
   ]
  },
  {
   "cell_type": "markdown",
   "metadata": {},
   "source": [
    "---"
   ]
  },
  {
   "cell_type": "markdown",
   "metadata": {
    "collapsed": true
   },
   "source": [
    "# Some Jupyter Tricks\n",
    "Jupyter is an interactive interface that runs a Python \"kernel\" in the background, one of 3 possible kernels (other 2 being Julia and R). Each cell can be run (executed) separately, but they populate the same \"name space\", i.e., not independent. If you initialize and do some operations on a variable in one cell, and change it in another, that will affect the initial cell. It's similar to cells in a MATLAB script. \n",
    "\n",
    "Basically, keep track of when and where you ran code, and before you submit anything final, __ALWAYS kill the notebook and re-run everything from the top__ to make sure there weren't some loose variables defined somewhere else!\n",
    "\n",
    "Some nifty shortcuts:\n",
    "- Enter to enter edit mode (can enter text); ESC to enter command mode.\n",
    "- In command mode: \n",
    "    - A to open a new cell above, B to open one below, X to delete current cell.\n",
    "    - M to change the cell to Markdown (fancy text, non-executable). Markdown is how all these instructions are written, and also where you will provide short-form responses in all the assignments. There are a lot more ways of formatting than plaintext, for example, __bold__.\n",
    "- Shift-Enter to run a cell, which will execute the code, or set the Markdown text\n",
    "- If you need to know what a function does, read its documentation string (docstring) by putting your cursor inside the brackets, and press shift+tab or shift+tab+tab to expand.\n",
    "\n",
    "Press the little keyboard on the top for more shortcuts. Press the square or loop-arrow to kill and restart the session."
   ]
  },
  {
   "cell_type": "markdown",
   "metadata": {},
   "source": [
    "# [1] Q1: What is your name?\n",
    "[1] Open a new cell at the VERY TOP of this notebook, make it a Markdown cell, and type, in a list:\n",
    "- your name,\n",
    "- your PID,\n",
    "- and the course code, followed by \" - Assignment 0\"\n",
    "\n",
    "and execute. It should look pretty nice."
   ]
  },
  {
   "cell_type": "markdown",
   "metadata": {},
   "source": [
    "# Python Crash Course\n",
    "I can't teach you all the python you need to know in 10 minutes, you'll have to struggle with it yourself. But these are some key concepts that make up most of the signal processing computations we will use.\n",
    "\n",
    "[COGS18](https://cogs18.github.io/materials/00-Introduction) has all the stuff you need to know. You should've taken this course before, or an equivalent programming course. So the next section is a _light_ review.\n",
    "\n",
    "First, real basic stuff: types."
   ]
  },
  {
   "cell_type": "code",
   "execution_count": 1,
   "metadata": {
    "ExecuteTime": {
     "end_time": "2019-07-01T22:19:04.449350Z",
     "start_time": "2019-07-01T22:19:04.424246Z"
    }
   },
   "outputs": [
    {
     "name": "stdout",
     "output_type": "stream",
     "text": [
      "<class 'int'>\n",
      "<class 'float'>\n",
      "<class 'bool'>\n",
      "<class 'str'>\n"
     ]
    }
   ],
   "source": [
    "# This is a comment. Always comment your code!\n",
    "# print() and type() are both native python functions\n",
    "print(type(6)) # this is an integer\n",
    "print(type(6.0)) # this is a float\n",
    "print(type(True)) # this is a boolean\n",
    "print(type('this is a string.')) # this is a string"
   ]
  },
  {
   "cell_type": "markdown",
   "metadata": {},
   "source": [
    "Now, onto variables."
   ]
  },
  {
   "cell_type": "code",
   "execution_count": 2,
   "metadata": {
    "ExecuteTime": {
     "end_time": "2019-07-01T22:19:11.643495Z",
     "start_time": "2019-07-01T22:19:11.624084Z"
    }
   },
   "outputs": [
    {
     "name": "stdout",
     "output_type": "stream",
     "text": [
      "5\n",
      "6.7\n",
      "False\n",
      "6.7\n",
      "True\n"
     ]
    }
   ],
   "source": [
    "a = 5 # assign the value 5 to the variable a\n",
    "b = 6.7 # similarly...\n",
    "\n",
    "print(a)\n",
    "print(b)\n",
    "print(a==b)\n",
    "\n",
    "a = b\n",
    "print(a)\n",
    "print(a==b)"
   ]
  },
  {
   "cell_type": "markdown",
   "metadata": {
    "collapsed": true
   },
   "source": [
    "Lastly, lists are python's native object for holding...well, lists of things."
   ]
  },
  {
   "cell_type": "code",
   "execution_count": 3,
   "metadata": {
    "ExecuteTime": {
     "end_time": "2019-07-01T22:19:14.673825Z",
     "start_time": "2019-07-01T22:19:14.643689Z"
    }
   },
   "outputs": [
    {
     "name": "stdout",
     "output_type": "stream",
     "text": [
      "[1, 2, 3, 4, 5, 6, 7]\n",
      "[11, 12, 13, 14, 15, 16, 17]\n",
      "[1, 2, 3, 4, 5, 6, 7, 11, 12, 13, 14, 15, 16, 17]\n",
      "Wait a minute...\n"
     ]
    }
   ],
   "source": [
    "# define a list\n",
    "my_list = [1,2,3,4,5,6,7]\n",
    "print(my_list)\n",
    "\n",
    "# define a second list\n",
    "my_other_list = [11,12,13,14,15,16,17]\n",
    "print(my_other_list)\n",
    "\n",
    "# now, add the two lists together\n",
    "my_list + my_other_list\n",
    "print(my_list+my_other_list)\n",
    "\n",
    "print('Wait a minute...')"
   ]
  },
  {
   "cell_type": "markdown",
   "metadata": {},
   "source": [
    "# Arrays with numpy\n",
    "As you can see above, lists don't necessarily work the way we expect them to as Euclidean vectors. For one, adding two lists will combine them, not add numerically. \n",
    "\n",
    "Due to this, and a slew of other reasons, we will be using `numpy`, the numerical python library."
   ]
  },
  {
   "cell_type": "code",
   "execution_count": 4,
   "metadata": {
    "ExecuteTime": {
     "end_time": "2019-07-01T22:19:21.518353Z",
     "start_time": "2019-07-01T22:19:21.162522Z"
    }
   },
   "outputs": [
    {
     "name": "stdout",
     "output_type": "stream",
     "text": [
      "<module 'numpy' from '/home/cabbagepatch/virtualenvs/py36/lib/python3.6/site-packages/numpy/__init__.py'>\n"
     ]
    }
   ],
   "source": [
    "# import our first library!\n",
    "# import as simply creates a short form for you to refer to when you call functions from \n",
    "# its module, and there are usually conventions. \n",
    "\n",
    "import numpy as np\n",
    "print(np)"
   ]
  },
  {
   "cell_type": "markdown",
   "metadata": {},
   "source": [
    "Now, we can convert our lists into numpy arrays."
   ]
  },
  {
   "cell_type": "code",
   "execution_count": 5,
   "metadata": {
    "ExecuteTime": {
     "end_time": "2019-07-01T22:19:21.673169Z",
     "start_time": "2019-07-01T22:19:21.640799Z"
    }
   },
   "outputs": [
    {
     "name": "stdout",
     "output_type": "stream",
     "text": [
      "[1 2 3 4 5 6 7] <class 'numpy.ndarray'>\n",
      "Adding:\n",
      "[12 14 16 18 20 22 24]\n",
      "Multiplying:\n",
      "[ 11  24  39  56  75  96 119]\n"
     ]
    }
   ],
   "source": [
    "my_arr = np.array(my_list)\n",
    "print(my_arr, type(my_arr))\n",
    "\n",
    "my_arr2 = np.array(my_other_list)\n",
    "\n",
    "# now let's try adding them (element-wise) again.\n",
    "print('Adding:')\n",
    "print(my_arr + my_arr2)\n",
    "\n",
    "# we can also element-wise multiply them\n",
    "print('Multiplying:')\n",
    "print(my_arr*my_arr2)"
   ]
  },
  {
   "cell_type": "markdown",
   "metadata": {},
   "source": [
    "# [2] Q2: Basis Vectors in 2-dimension\n",
    "[1] In the cell below, create two variables that represent two different vectors, the [2-dimensional standard bases i and j](https://en.wikipedia.org/wiki/Standard_basis).\n",
    "\n",
    "[1] Then, perform vector addition using them by adding them together."
   ]
  },
  {
   "cell_type": "code",
   "execution_count": 9,
   "metadata": {
    "ExecuteTime": {
     "end_time": "2019-07-01T22:22:43.794519Z",
     "start_time": "2019-07-01T22:22:43.788628Z"
    }
   },
   "outputs": [
    {
     "name": "stdout",
     "output_type": "stream",
     "text": [
      "[1 1 0]\n"
     ]
    }
   ],
   "source": [
    "basis_x = np.array([1,0,0])\n",
    "basis_y = np.array([0,1,0])\n",
    "\n",
    "my_vec = basis_x + basis_y\n",
    "print(my_vec) # print the result of their summation"
   ]
  },
  {
   "cell_type": "markdown",
   "metadata": {},
   "source": [
    "# Indexing, length, and summation of an array\n",
    "When the vector is 2D, you know the array has length 2. But when we work with long signals later on, they will also be stored in these arrays, and we often need to know how many elements are in it for various purposes.\n",
    "\n",
    "To access a particular element of an array, use square brackets. Python uses 0-indexing, meaning the first element is accessed with the index 0, instead of 1."
   ]
  },
  {
   "cell_type": "code",
   "execution_count": 10,
   "metadata": {
    "ExecuteTime": {
     "end_time": "2019-07-01T22:22:51.112931Z",
     "start_time": "2019-07-01T22:22:51.087335Z"
    }
   },
   "outputs": [
    {
     "name": "stdout",
     "output_type": "stream",
     "text": [
      "1\n",
      "7\n"
     ]
    }
   ],
   "source": [
    "print(my_arr[0])\n",
    "print(my_arr[-1])"
   ]
  },
  {
   "cell_type": "code",
   "execution_count": 11,
   "metadata": {
    "ExecuteTime": {
     "end_time": "2019-07-01T22:22:52.003047Z",
     "start_time": "2019-07-01T22:22:51.987601Z"
    }
   },
   "outputs": [
    {
     "name": "stdout",
     "output_type": "stream",
     "text": [
      "[1 2 3 4 5 6 7]\n",
      "7\n",
      "(7,)\n"
     ]
    }
   ],
   "source": [
    "# two ways of finding the length of an array\n",
    "\n",
    "print(my_arr)\n",
    "print(len(my_arr)) # len() is a native python function\n",
    "print(my_arr.shape) # .shape is a property of numpy arrays only"
   ]
  },
  {
   "cell_type": "code",
   "execution_count": 12,
   "metadata": {
    "ExecuteTime": {
     "end_time": "2019-07-01T22:22:55.298145Z",
     "start_time": "2019-07-01T22:22:55.271654Z"
    }
   },
   "outputs": [
    {
     "name": "stdout",
     "output_type": "stream",
     "text": [
      "28\n",
      "28\n"
     ]
    }
   ],
   "source": [
    "# two ways of finding the summation of an array\n",
    "# note that this means adding together all the elements inside a single array\n",
    "print(sum(my_arr)) # len() is a native python function\n",
    "print(my_arr.sum())# .sum() is a property of numpy arrays only"
   ]
  },
  {
   "cell_type": "markdown",
   "metadata": {},
   "source": [
    "# [2] Q3: Functions and for loops\n",
    "[1] To brush up your python, create your own function that returns the summation of an array, **using only a for-loop**!\n",
    "\n",
    "[1] Confirm that they return the same result as above."
   ]
  },
  {
   "cell_type": "code",
   "execution_count": 13,
   "metadata": {
    "ExecuteTime": {
     "end_time": "2019-07-01T22:23:01.438598Z",
     "start_time": "2019-07-01T22:23:01.422282Z"
    }
   },
   "outputs": [
    {
     "name": "stdout",
     "output_type": "stream",
     "text": [
      "range(0, 6)\n"
     ]
    }
   ],
   "source": [
    "# I've given you a hint for free: use the range() function to create an iterating variable\n",
    "# If you need to iterate through all the elements of an array, this has to be as long as the array\n",
    "print(range(6))"
   ]
  },
  {
   "cell_type": "code",
   "execution_count": 17,
   "metadata": {
    "ExecuteTime": {
     "end_time": "2019-07-01T22:25:31.623781Z",
     "start_time": "2019-07-01T22:25:31.589699Z"
    }
   },
   "outputs": [
    {
     "name": "stdout",
     "output_type": "stream",
     "text": [
      "28\n"
     ]
    }
   ],
   "source": [
    "# Note that there are various ways to solve this problem, there's no correct solution.\n",
    "# It's okay if your solution is different or more/less elegant, this is just to gauge that you\n",
    "# have the prerequisite exposure for coding algorithms\n",
    "def my_sum(arr):\n",
    "    #_FILL_IN_YOUR_CODE_HERE \n",
    "    the_sum = 0\n",
    "    for i in range(len(arr)):\n",
    "        the_sum += arr[i]\n",
    "    return the_sum\n",
    "\n",
    "\n",
    "print(my_sum(my_arr))"
   ]
  },
  {
   "cell_type": "markdown",
   "metadata": {},
   "source": [
    "---"
   ]
  },
  {
   "cell_type": "markdown",
   "metadata": {},
   "source": [
    "# [2] Q4: Dot Product\n",
    "[2] Consult the formula for the dot product below, create a function that performs the dot product (or inner product) between two arrays.\n",
    "\n",
    "$$\\vec{a} \\cdot \\vec{b} = \\sum_{i=0}^{N-1} a_ib_i $$\n",
    "\n",
    "where N is the length (dimension) of the vectors. Note that the above uses zero-indexing, to be consistent with python."
   ]
  },
  {
   "cell_type": "code",
   "execution_count": 18,
   "metadata": {
    "ExecuteTime": {
     "end_time": "2019-07-01T22:26:05.361264Z",
     "start_time": "2019-07-01T22:26:05.334111Z"
    }
   },
   "outputs": [
    {
     "name": "stdout",
     "output_type": "stream",
     "text": [
      "420\n",
      "420\n"
     ]
    }
   ],
   "source": [
    "def my_dotprod(arr1,arr2):\n",
    "    # Hint: given what you already know, you only need a single line inside this function.\n",
    "    result = np.dot(arr1, arr2)\n",
    "    return result\n",
    "\n",
    "print(my_dotprod(my_arr, my_arr2))\n",
    "\n",
    "# confirm that it gives same answer as the numpy function\n",
    "print(np.dot(my_arr, my_arr2))\n",
    "\n",
    "# Congratulations, you have just performed dot product in 7-dimensions."
   ]
  },
  {
   "cell_type": "markdown",
   "metadata": {},
   "source": [
    "# [3] Q5: Dot Product of Basis\n",
    "[1] What should the dot product of the two bases vectors you created above (i and j) be? \n",
    "\n",
    "ANSWER: 0\n",
    "\n",
    "[1] What is this property called?\n",
    "\n",
    "ANSWER: Orthogonality\n",
    "\n",
    "---\n",
    "[1] Confirm that this is the case in code below. You can use either your dot product function or numpy's."
   ]
  },
  {
   "cell_type": "code",
   "execution_count": 20,
   "metadata": {
    "ExecuteTime": {
     "end_time": "2019-07-01T22:27:26.276835Z",
     "start_time": "2019-07-01T22:27:26.222578Z"
    }
   },
   "outputs": [
    {
     "data": {
      "text/plain": [
       "0"
      ]
     },
     "execution_count": 20,
     "metadata": {},
     "output_type": "execute_result"
    }
   ],
   "source": [
    "dot = np.dot(basis_x, basis_y)\n",
    "dot"
   ]
  },
  {
   "cell_type": "markdown",
   "metadata": {},
   "source": [
    "---"
   ]
  },
  {
   "cell_type": "markdown",
   "metadata": {},
   "source": [
    "# Complex Numbers\n",
    "Complex numbers have a real and an imaginary component, which can be represented as a 2D (length-2) vector. The bases (axes), instead of x and y, are the real and imaginary number lines. \n",
    "\n",
    "In python, we tack on a `j` to denote the imaginary component."
   ]
  },
  {
   "cell_type": "code",
   "execution_count": 21,
   "metadata": {
    "ExecuteTime": {
     "end_time": "2019-07-01T22:27:46.586004Z",
     "start_time": "2019-07-01T22:27:46.563095Z"
    }
   },
   "outputs": [
    {
     "name": "stdout",
     "output_type": "stream",
     "text": [
      "(1+1j)\n",
      "(1-1j)\n"
     ]
    }
   ],
   "source": [
    "z = 1+1j\n",
    "print(z)\n",
    "\n",
    "# or you can construct a complex number like this:\n",
    "w = complex(1,-1)\n",
    "print(w)"
   ]
  },
  {
   "cell_type": "markdown",
   "metadata": {},
   "source": [
    "# Plotting vectors\n",
    "Now, we will import another library, for plotting things: matplotlib. More precisely, we're importing a specific module of the library, but don't worry about that, since we'll always be using the same line to import."
   ]
  },
  {
   "cell_type": "code",
   "execution_count": 22,
   "metadata": {
    "ExecuteTime": {
     "end_time": "2019-07-01T22:27:52.516526Z",
     "start_time": "2019-07-01T22:27:52.151168Z"
    }
   },
   "outputs": [],
   "source": [
    "import matplotlib.pyplot as plt # do the import\n",
    "\n",
    "# the next line is jupyter magic that always displays the plot, otherwise you have to call plt.show()\n",
    "%matplotlib inline"
   ]
  },
  {
   "cell_type": "code",
   "execution_count": 23,
   "metadata": {
    "ExecuteTime": {
     "end_time": "2019-07-01T22:27:53.239927Z",
     "start_time": "2019-07-01T22:27:52.705729Z"
    }
   },
   "outputs": [
    {
     "name": "stderr",
     "output_type": "stream",
     "text": [
      "/home/cabbagepatch/virtualenvs/py36/lib/python3.6/site-packages/numpy/core/numeric.py:492: ComplexWarning: Casting complex values to real discards the imaginary part\n",
      "  return array(a, dtype, copy=False, order=order)\n"
     ]
    },
    {
     "data": {
      "text/plain": [
       "[<matplotlib.lines.Line2D at 0x7f6e9a725eb8>]"
      ]
     },
     "execution_count": 23,
     "metadata": {},
     "output_type": "execute_result"
    },
    {
     "data": {
      "image/png": "[encoded data removed]",
      "text/plain": [
       "<Figure size 288x288 with 1 Axes>"
      ]
     },
     "metadata": {
      "needs_background": "light"
     },
     "output_type": "display_data"
    }
   ],
   "source": [
    "plt.figure(figsize=(4,4))\n",
    "plt.plot(z)"
   ]
  },
  {
   "cell_type": "markdown",
   "metadata": {},
   "source": [
    "Well, nothing happened.\n",
    "\n",
    "It's a little complicated, but as you can see above, matplotlib doesn't handle complex numbers in the intuitive way you'd imagine, so we have to specify the real and imaginary components separately.\n",
    "\n",
    "Also, we can use `plt.arrow()` to make the vector pretty."
   ]
  },
  {
   "cell_type": "code",
   "execution_count": 30,
   "metadata": {
    "ExecuteTime": {
     "end_time": "2019-07-01T22:43:05.140130Z",
     "start_time": "2019-07-01T22:43:05.100784Z"
    }
   },
   "outputs": [],
   "source": [
    "plt.arrow?"
   ]
  },
  {
   "cell_type": "code",
   "execution_count": 24,
   "metadata": {
    "ExecuteTime": {
     "end_time": "2019-07-01T22:28:13.902808Z",
     "start_time": "2019-07-01T22:28:13.484817Z"
    }
   },
   "outputs": [
    {
     "data": {
      "text/plain": [
       "Text(0, 0.5, 'Im')"
      ]
     },
     "execution_count": 24,
     "metadata": {},
     "output_type": "execute_result"
    },
    {
     "data": {
      "image/png": "[encoded data removed]",
      "text/plain": [
       "<Figure size 288x288 with 1 Axes>"
      ]
     },
     "metadata": {
      "needs_background": "light"
     },
     "output_type": "display_data"
    }
   ],
   "source": [
    "# make a new figure and define its size\n",
    "plt.figure(figsize=(4,4))\n",
    "\n",
    "# draw the arrows\n",
    "plt.arrow(0,0,z.real,z.imag, head_width=0.1, length_includes_head=True)\n",
    "plt.arrow(0,0,w.real,w.imag, head_width=0.1, length_includes_head=True)\n",
    "\n",
    "plt.xlim([-1,1]);plt.ylim([-1,1]) # set limits manually\n",
    "\n",
    "plt.xlabel('Re');plt.ylabel('Im') # label the axes"
   ]
  },
  {
   "cell_type": "markdown",
   "metadata": {},
   "source": [
    "# [2] Q6: Complex Number in Polar Form\n",
    "![Polar Form](img/polar.png)\n",
    "\n",
    "As defined above, the complex number z is in its rectangular form, which specifies its real and imaginary components. We can also represent it in its polar form. As the diagram shows above, that means specifying its magnitude and angle (or sometimes called phase).\n",
    "\n",
    "[2] Note that the vector z is the hypotenuse of a right angled triangle with the real (x) and imaginary (y) components as its two sides. Express that in code below to find the magnitude and angle of z. Confirm that it's the same as the numpy results."
   ]
  },
  {
   "cell_type": "code",
   "execution_count": 27,
   "metadata": {
    "ExecuteTime": {
     "end_time": "2019-07-01T22:37:28.676267Z",
     "start_time": "2019-07-01T22:37:28.654576Z"
    }
   },
   "outputs": [
    {
     "name": "stdout",
     "output_type": "stream",
     "text": [
      "1.4142135623730951 0.7853981633974483\n",
      "1.4142135623730951 0.7853981633974483\n"
     ]
    }
   ],
   "source": [
    "z_real = z.real\n",
    "z_imag = z.imag\n",
    "\n",
    "z_mag = np.sum(z_real + z_imag)**0.5\n",
    "z_ang = np.arctan(z_real)\n",
    "\n",
    "print(z_mag, z_ang)\n",
    "print(np.abs(z), np.angle(z))"
   ]
  },
  {
   "cell_type": "markdown",
   "metadata": {},
   "source": [
    "# [3] Q7: Complex Number as Vectors\n",
    "Conveniently, we can express the complex number as a length-2 array, and do vector computation with them as we did above.\n",
    "\n",
    "[1] Looking at the plot where z and w are plotted as arrows, what is the angle (in radians or degrees) between those two vectors?\n",
    "\n",
    "ANSWER: 0.7853981633974483\n",
    "\n",
    "[1] What do you expect is the dot product of z and w? Why? Make an argument without explicitly computing it.\n",
    "\n",
    "ANSWER: 0, because they're orthogonal to each other.\n",
    "\n",
    "[1] In the cell below, convert the complex number z and w into length-2 arrays, and confirm that the dot product is what you expected."
   ]
  },
  {
   "cell_type": "code",
   "execution_count": 48,
   "metadata": {
    "ExecuteTime": {
     "end_time": "2019-07-01T22:57:36.718738Z",
     "start_time": "2019-07-01T22:57:36.701233Z"
    }
   },
   "outputs": [
    {
     "data": {
      "text/plain": [
       "0.0"
      ]
     },
     "execution_count": 48,
     "metadata": {},
     "output_type": "execute_result"
    }
   ],
   "source": [
    "z_arr = np.array([z_real, z_imag])\n",
    "w_arr = np.array([w.real, w.imag])\n",
    "np.dot(z_arr,w_arr)"
   ]
  },
  {
   "cell_type": "markdown",
   "metadata": {},
   "source": [
    "---"
   ]
  },
  {
   "cell_type": "markdown",
   "metadata": {},
   "source": [
    "# End Survery\n",
    "Please take a few minutes to fill out the following as it will help us to improve the following assignments & lectures."
   ]
  },
  {
   "cell_type": "markdown",
   "metadata": {},
   "source": [
    "# Content:\n",
    "What was one thing you learned from this lab & associated lectures?\n",
    "\n",
    "ANSWER: Remembering complex numbers and high school trig\n",
    "\n",
    "---\n",
    "What was one thing that you still found confusing after the lab, and need clarification?\n",
    "\n",
    "ANSWER: nothing, just need more trig practice..."
   ]
  },
  {
   "cell_type": "markdown",
   "metadata": {},
   "source": [
    "# Style:\n",
    "What was one thing you enjoyed about the formatting of this assignment (e.g., clarity, structure, guidance, etc.)?\n",
    "\n",
    "Answer: figures in markdown cells, esp. for Q6\n",
    "\n",
    "---\n",
    "What was one thing that you thought could use improvements on?\n",
    "\n",
    "Answer: w's figure could be labeled more clearly\n"
   ]
  },
  {
   "cell_type": "markdown",
   "metadata": {},
   "source": [
    "# Thank you!"
   ]
  }
 ],
 "metadata": {
  "kernelspec": {
   "display_name": "Python 3",
   "language": "python",
   "name": "python3"
  },
  "language_info": {
   "codemirror_mode": {
    "name": "ipython",
    "version": 3
   },
   "file_extension": ".py",
   "mimetype": "text/x-python",
   "name": "python",
   "nbconvert_exporter": "python",
   "pygments_lexer": "ipython3",
   "version": "3.6.6"
  }
 },
 "nbformat": 4,
 "nbformat_minor": 2
}
